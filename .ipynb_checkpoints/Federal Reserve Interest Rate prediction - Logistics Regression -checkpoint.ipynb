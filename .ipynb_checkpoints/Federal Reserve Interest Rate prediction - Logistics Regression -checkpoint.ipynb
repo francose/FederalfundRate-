{
 "cells": [
  {
   "cell_type": "code",
   "execution_count": null,
   "metadata": {},
   "outputs": [],
   "source": [
    "from collections import Counter\n",
    "from abc import ABC, abstractclassmethod, abstractmethod\n",
    "from sklearn.model_selection import train_test_split \n",
    "from sklearn.linear_model import LinearRegression\n",
    "from sklearn import preprocessing, metrics\n",
    "from sklearn.metrics import mean_squared_error\n",
    "from statsmodels.tsa.arima_model import ARIMA\n",
    "import matplotlib.pyplot as plt\n",
    "import numpy as np\n",
    "import pandas as pd\n",
    "pd.set_option(\"display.max_rows\",4999)"
   ]
  },
  {
   "cell_type": "code",
   "execution_count": null,
   "metadata": {},
   "outputs": [],
   "source": [
    "\n",
    "\n",
    "class FederalRates(ABC):\n",
    "    \n",
    "    def __init__(self, fundRate, inflation):\n",
    "        try: \n",
    "            self.fundRate = fundRate\n",
    "            self.inflation = inflation\n",
    "            super(FederalRates, self).__init__()\n",
    "        except AttributeError as e:\n",
    "            print(e)\n",
    "            \n",
    "    @abstractmethod\n",
    "    def predict(self):\n",
    "        return self.__init__() \n",
    "    \n",
    "    @abstractmethod\n",
    "    def testValues(self):\n",
    "        return self.__init__() \n",
    "\n",
    "    @classmethod\n",
    "    def readData(cls, path):\n",
    "        rawData = pd.read_csv(path)\n",
    "        return (rawData)\n",
    "\n",
    "\n",
    "        \n"
   ]
  },
  {
   "cell_type": "markdown",
   "metadata": {},
   "source": [
    "### Testing Our Dataset Auto regressor prediction ###\n"
   ]
  },
  {
   "cell_type": "code",
   "execution_count": 88,
   "metadata": {},
   "outputs": [],
   "source": [
    "\n",
    "class TestInterestRate(FederalRates):\n",
    "    \n",
    "    def filtered(self):\n",
    "        rawInterestRate = self.fundRate[\"DATE\"] > \"2019-01-01\"\n",
    "        return self.fundRate[rawInterestRate].set_index(\"DATE\")\n",
    "    \n",
    "    def predict(self):\n",
    "        interestRate = self.filtered()[\"FF\"]    \n",
    "        freqTable = dict(Counter(interestRate))\n",
    "#         des = self.predict()\n",
    "        return interestRate .describe()\n",
    "        \n",
    "    def StartARIMAForecasting(self, Actual, P, D, Q):\n",
    "        \"\"\"\n",
    "            P — Auto regressive feature of the model\n",
    "            D — Differencing order\n",
    "            Q — Moving average feature of the model\n",
    "\n",
    "        \"\"\"\n",
    "        model = ARIMA(Actual, order=(P, D, Q))\n",
    "        model_fit = model.fit(disp=0)\n",
    "        prediction = model_fit.forecast()[0]\n",
    "        return prediction\n",
    "    \n",
    "    def testValues(self):\n",
    "        values = self.predict()\n",
    "        #predict next value\n",
    "        predicted = self.StartARIMAForecasting(values, 2,1,0)\n",
    "\n",
    "        #Use 80% of data as training, rest 20% to Test model\n",
    "        NumberOfElements = len(values)\n",
    "        TrainingSize = int(NumberOfElements * 0.8)\n",
    "        TrainingData = values[0:TrainingSize]\n",
    "        TestData = values[TrainingSize:NumberOfElements]\n",
    "\n",
    "        #new arrays to store actual and predictions\n",
    "        Actual = [x for x in TrainingData]\n",
    "        Predictions = list()\n",
    "\n",
    "\n",
    "        #in a for loop, predict values using ARIMA model\n",
    "        for timepoint in range(len(TestData)):\n",
    "            ActualValue =  TestData[timepoint]\n",
    "            #forcast value\n",
    "            Prediction = self.StartARIMAForecasting(Actual, 2,1,0)    \n",
    "            print('Actual=%f, Predicted=%f' % (ActualValue, Prediction))\n",
    "            #add it in the list\n",
    "            Predictions.append(Prediction)\n",
    "            Actual.append(ActualValue)\n",
    "\n",
    "        #Print MSE to see how good the model is\n",
    "        Error = mean_squared_error(TestData, Predictions)\n",
    "        print('\\n Test Mean Squared Error (smaller the better fit): %.3f' % Error)\n",
    "        # plot\n",
    "        plt.subplots(figsize=(19, 8))\n",
    "        plt.plot(TestData)\n",
    "        plt.plot(Predictions, color='red')\n",
    "        plt.show()\n",
    "                \n"
   ]
  },
  {
   "cell_type": "markdown",
   "metadata": {},
   "source": [
    "### Executing our dataset ###"
   ]
  },
  {
   "cell_type": "code",
   "execution_count": null,
   "metadata": {},
   "outputs": [],
   "source": [
    "def test(rawInterestRateData, rawInflationRateData):\n",
    "    testInterestRate = TestInterestRate(FederalRates.readData(rawInterestRateData), FederalRates.readData(rawInflationRateData))\n",
    "    return testInterestRate.testValues()\n",
    "\n",
    "if __name__ == \"__main__\":\n",
    "    test(\"./FF.csv\", \"./index.csv\")"
   ]
  },
  {
   "cell_type": "code",
   "execution_count": 93,
   "metadata": {},
   "outputs": [
    {
     "name": "stdout",
     "output_type": "stream",
     "text": [
      "count    47.000000\n",
      "mean      2.236383\n",
      "std       0.263978\n",
      "min       1.550000\n",
      "25%       2.130000\n",
      "50%       2.390000\n",
      "75%       2.400000\n",
      "max       2.440000\n",
      "Name: FF, dtype: float64\n"
     ]
    }
   ],
   "source": [
    "def describes(rawInterestRateData, rawInflationRateData):\n",
    "    testInterestRate = TestInterestRate(FederalRates.readData(rawInterestRateData), FederalRates.readData(rawInflationRateData))\n",
    "    return print(testInterestRate.predict())\n",
    "    \n",
    " \n",
    "\n",
    "if __name__ == \"__main__\":\n",
    "    describes(\"./FF.csv\", \"./index.csv\")"
   ]
  },
  {
   "cell_type": "code",
   "execution_count": null,
   "metadata": {},
   "outputs": [],
   "source": [
    "\n",
    "class InterestRate(FederalRates):\n",
    "    \n",
    "    def filtered(self):\n",
    "        rawInterestRate = self.fundRate[\"DATE\"] > \"2019-05-01\"\n",
    "        return self.fundRate[rawInterestRate].set_index(\"DATE\")\n",
    "    \n",
    "    def predict(self):\n",
    "        interestRate = self.filtered()[\"FF\"]        \n",
    "        return interestRate.describe()\n",
    "    \n",
    "    def testValues(self):\n",
    "        pass"
   ]
  },
  {
   "cell_type": "code",
   "execution_count": null,
   "metadata": {},
   "outputs": [],
   "source": [
    "def main(rawInterestRateData, rawInflationRateData):\n",
    "    interestRate = InterestRate(FederalRates.readData(rawInterestRateData), FederalRates.readData(rawInflationRateData))\n",
    "    return (interestRate.predict())\n",
    " \n",
    "if __name__ == \"__main__\":\n",
    "    main(\"./FF.csv\", \"./index.csv\")"
   ]
  },
  {
   "cell_type": "code",
   "execution_count": null,
   "metadata": {},
   "outputs": [],
   "source": []
  }
 ],
 "metadata": {
  "kernelspec": {
   "display_name": "Python 3",
   "language": "python",
   "name": "python3"
  },
  "language_info": {
   "codemirror_mode": {
    "name": "ipython",
    "version": 3
   },
   "file_extension": ".py",
   "mimetype": "text/x-python",
   "name": "python",
   "nbconvert_exporter": "python",
   "pygments_lexer": "ipython3",
   "version": "3.7.5"
  }
 },
 "nbformat": 4,
 "nbformat_minor": 2
}

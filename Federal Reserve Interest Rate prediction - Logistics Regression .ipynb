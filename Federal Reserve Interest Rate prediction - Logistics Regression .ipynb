{
 "cells": [
  {
   "cell_type": "code",
   "execution_count": 145,
   "metadata": {},
   "outputs": [
    {
     "name": "stdout",
     "output_type": "stream",
     "text": [
      "2.41  has count  2\n",
      "2.4  has count  3\n",
      "2.39  has count  3\n",
      "2.38  has count  3\n",
      "2.37  has count  2\n",
      "2.19  has count  1\n",
      "2.13  has count  4\n",
      "2.12  has count  2\n",
      "1.9  has count  1\n",
      "1.85  has count  2\n",
      "1.84  has count  1\n",
      "1.83  has count  1\n",
      "1.82  has count  1\n",
      "1.57  has count  1\n",
      "1.55  has count  2\n"
     ]
    }
   ],
   "source": [
    "import matplotlib.pyplot as plt\n",
    "import numpy as np\n",
    "import pandas as pd\n",
    "from collections import Counter\n",
    "from abc import ABC, abstractclassmethod, abstractmethod\n",
    "from sklearn.model_selection import train_test_split \n",
    "from sklearn.linear_model import LinearRegression\n",
    "from sklearn import metrics\n",
    "\n",
    "pd.set_option(\"display.max_rows\",4999)\n",
    "\n",
    "class FederalRates(ABC):\n",
    "    \n",
    "    def __init__(self, fundRate, inflation):\n",
    "        try: \n",
    "            self.fundRate = fundRate\n",
    "            self.inflation = inflation\n",
    "            super(FederalRates, self).__init__()\n",
    "        except AttributeError as e:\n",
    "            print(e)\n",
    "            \n",
    "    @abstractmethod\n",
    "    def execute(self):\n",
    "        return self.__init__()   \n",
    "\n",
    "    @classmethod\n",
    "    def readData(cls, path):\n",
    "        rawData = pd.read_csv(path)\n",
    "        return (rawData)\n",
    "\n",
    "    \n",
    "import itertools            \n",
    "    \n",
    "class InterestRate(FederalRates):\n",
    "    \n",
    "    def filtered(self):\n",
    "        rawInterestRate = self.fundRate[\"DATE\"] > \"2019-05-01\"\n",
    "        return self.fundRate[rawInterestRate].set_index(\"DATE\")\n",
    "    \n",
    "    def execute(self):\n",
    "        interestRate = self.filtered()\n",
    "        return interestRate\n",
    "    \n",
    "    def testValues(self):\n",
    "        values = sorted(self.execute()[\"FF\"], reverse=True)\n",
    "        freq= Counter(values)\n",
    "        for key, value in freq.items():\n",
    "            print(key, \" has count \", value) \n",
    "\n",
    "\n",
    "           \n",
    "\n",
    "    \n",
    "def main(rawInterestRateData, rawInflationRateData):\n",
    "    interestRate = InterestRate(FederalRates.readData(rawInterestRateData), FederalRates.readData(rawInflationRateData))\n",
    "    return interestRate.testValues()\n",
    " \n",
    "if __name__ == \"__main__\":\n",
    "    main(\"./FF.csv\", \"./index.csv\")\n"
   ]
  },
  {
   "cell_type": "code",
   "execution_count": null,
   "metadata": {},
   "outputs": [],
   "source": []
  }
 ],
 "metadata": {
  "kernelspec": {
   "display_name": "Python 3",
   "language": "python",
   "name": "python3"
  },
  "language_info": {
   "codemirror_mode": {
    "name": "ipython",
    "version": 3
   },
   "file_extension": ".py",
   "mimetype": "text/x-python",
   "name": "python",
   "nbconvert_exporter": "python",
   "pygments_lexer": "ipython3",
   "version": "3.7.5"
  }
 },
 "nbformat": 4,
 "nbformat_minor": 2
}

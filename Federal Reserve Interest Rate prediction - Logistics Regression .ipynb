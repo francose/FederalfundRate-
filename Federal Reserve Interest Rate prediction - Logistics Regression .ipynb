{
 "cells": [
  {
   "cell_type": "code",
   "execution_count": null,
   "metadata": {},
   "outputs": [],
   "source": [
    "from collections import Counter\n",
    "from abc import ABC, abstractclassmethod, abstractmethod\n",
    "from sklearn.model_selection import train_test_split \n",
    "from sklearn.linear_model import LinearRegression\n",
    "from sklearn import preprocessing, metrics\n",
    "from sklearn.metrics import mean_squared_error\n",
    "from statsmodels.tsa.arima_model import ARIMA\n",
    "import matplotlib.pyplot as plt\n",
    "import numpy as np\n",
    "import pandas as pd\n",
    "pd.set_option(\"display.max_rows\",4999)"
   ]
  },
  {
   "cell_type": "code",
   "execution_count": null,
   "metadata": {},
   "outputs": [],
   "source": [
    "\n",
    "\n",
    "class FederalRates(ABC):\n",
    "    \n",
    "    def __init__(self, fundRate, inflation):\n",
    "        try: \n",
    "            self.fundRate = fundRate\n",
    "            self.inflation = inflation\n",
    "            super(FederalRates, self).__init__()\n",
    "        except AttributeError as e:\n",
    "            print(e)\n",
    "            \n",
    "    @abstractmethod\n",
    "    def predict(self):\n",
    "        return self.__init__() \n",
    "    \n",
    "    @abstractmethod\n",
    "    def testValues(self):\n",
    "        return self.__init__() \n",
    "\n",
    "    @classmethod\n",
    "    def readData(cls, path):\n",
    "        rawData = pd.read_csv(path)\n",
    "        return (rawData)\n",
    "\n",
    "\n",
    "        \n"
   ]
  },
  {
   "cell_type": "markdown",
   "metadata": {},
   "source": [
    "# Testing Our Dataset with Auto regressive Model #\n",
    "\n",
    "### What is an ARIMA model? ###\n",
    "\n",
    "Arima model is a class of statistical models for analyzing and forecasting time series since our variable is depending on the time.\n",
    "\n",
    "It explicitly caters to a suite of standard structures in time series data, and as such provides a simple yet powerful method for making skillful time series forecasts.\n",
    "\n",
    "**ARIMA** is an acronym that stands for **AutoRegressive Integrated Moving Average**. It is a generalization of the simpler **AutoRegressive Moving Average** and adds the notion of integration.\n",
    "\n",
    "1) **AR**: Autoregression. A model that uses the dependent relationship between an observation and some number of lagged observations.\n",
    "\n",
    "2) **I**: Integrated. The use of differencing of raw observations (e.g. subtracting an observation from an observation at the previous time step) in order to make the time series stationary.\n",
    "\n",
    "3) **MA**: Moving Average. A model that uses the dependency between an observation and a residual error from a moving average model applied to lagged observations.\n",
    "\n",
    "### Describing our equation ###\n",
    "\n",
    "our main purpose is to predict from ŷ to y value. for this we need to create matrix design which part of the geometric series. \n",
    "\n",
    "**ŷt   =   μ + ϕ1 yt-1 +…+ ϕp yt-p - θ1et-1 -…- θqet-q**\n",
    "\n",
    "for this calculation we need to understand the behavior of the partial derivates, newtons method and geometric series.\n",
    "\n",
    "\n",
    "To identify the appropriate ARIMA model for Y, you begin by determining the order of differencing (d) needing to stationarize the series and remove the gross features of seasonality, perhaps in conjunction with a variance-stabilizing transformation such as logging or deflating. \n",
    "\n",
    "If you stop at this point and predict that the differenced series is constant, you have merely fitted a random walk or random trend model.  \n",
    "\n",
    "However, the stationarized series may still have autocorrelated errors, suggesting that some number of AR terms (p ≥ 1) and/or some number MA terms (q ≥ 1) are also needed in the forecasting equation.\n"
   ]
  },
  {
   "cell_type": "code",
   "execution_count": 111,
   "metadata": {},
   "outputs": [],
   "source": [
    "\n",
    "class TestInterestRate(FederalRates):\n",
    "    \n",
    "    def filtered(self):\n",
    "        rawInterestRate = self.fundRate[\"DATE\"] > \"2018-01-01\"\n",
    "        return self.fundRate[rawInterestRate].set_index(\"DATE\")\n",
    "    \n",
    "    def predict(self):\n",
    "        interestRate = self.filtered()[\"FF\"]    \n",
    "        freqTable = dict(Counter(interestRate))\n",
    "        return interestRate .describe()\n",
    "        \n",
    "    def StartARIMAForecasting(self, Actual, P, D, Q):\n",
    "        \"\"\"\n",
    "            P — Auto regressive feature of the model\n",
    "            D — Differencing order\n",
    "            Q — Moving average feature of the model\n",
    "\n",
    "        \"\"\"\n",
    "        model = ARIMA(Actual, order=(P, D, Q))\n",
    "        model_fit = model.fit(disp=0)\n",
    "        prediction = model_fit.forecast()[0]\n",
    "        return prediction\n",
    "    \n",
    "    def testValues(self):\n",
    "        values = self.filtered()[\"FF\"]\n",
    "        #predict next value\n",
    "        predicted = self.StartARIMAForecasting(values, 3,1,0)\n",
    "\n",
    "        #Use 80% of data as training, rest 20% to Test model\n",
    "        NumberOfElements = len(values)\n",
    "        TrainingSize = int(NumberOfElements * 0.7)\n",
    "        TrainingData = values[0:TrainingSize]\n",
    "        TestData = values[TrainingSize:NumberOfElements]\n",
    "\n",
    "        #new arrays to store actual and predictions\n",
    "        Actual = [x for x in TrainingData]\n",
    "        Predictions = list()\n",
    "\n",
    "\n",
    "        #in a for loop, predict values using ARIMA model\n",
    "        for timepoint in range(len(TestData)):\n",
    "            ActualValue =  TestData[timepoint]\n",
    "            #forcast value\n",
    "            Prediction = self.StartARIMAForecasting(Actual, 2,1,0)# second order auto regression    \n",
    "            print('Actual=%f, Predicted=%f' % (ActualValue, Prediction))\n",
    "            #add it in the list\n",
    "            Predictions.append(Prediction)\n",
    "            Actual.append(ActualValue)\n",
    "\n",
    "        #Print MSE to see how good the model is\n",
    "        Error = mean_squared_error(TestData, Predictions)\n",
    "        print('\\n Test Mean Squared Error (smaller the better fit): %.3f' % Error)\n",
    "        # plot\n",
    "        plt.subplots(figsize=(19, 8))\n",
    "        plt.plot(TestData)\n",
    "        plt.plot(Predictions, color='red')\n",
    "        plt.show()\n",
    "                \n"
   ]
  },
  {
   "cell_type": "markdown",
   "metadata": {},
   "source": [
    "### Executing our dataset ###"
   ]
  },
  {
   "cell_type": "code",
   "execution_count": 112,
   "metadata": {},
   "outputs": [
    {
     "name": "stderr",
     "output_type": "stream",
     "text": [
      "/Users/sadikerisen/opt/anaconda3/envs/forecastingInterestRate/lib/python3.7/site-packages/statsmodels/tsa/base/tsa_model.py:165: ValueWarning: No frequency information was provided, so inferred frequency W-WED will be used.\n",
      "  % freq, ValueWarning)\n",
      "/Users/sadikerisen/opt/anaconda3/envs/forecastingInterestRate/lib/python3.7/site-packages/statsmodels/tsa/base/tsa_model.py:165: ValueWarning: No frequency information was provided, so inferred frequency W-WED will be used.\n",
      "  % freq, ValueWarning)\n"
     ]
    },
    {
     "name": "stdout",
     "output_type": "stream",
     "text": [
      "Actual=2.440000, Predicted=2.456341\n",
      "Actual=2.400000, Predicted=2.455013\n",
      "Actual=2.380000, Predicted=2.418851\n",
      "Actual=2.390000, Predicted=2.400466\n",
      "Actual=2.380000, Predicted=2.407269\n",
      "Actual=2.390000, Predicted=2.395024\n",
      "Actual=2.370000, Predicted=2.405853\n",
      "Actual=2.370000, Predicted=2.384787\n",
      "Actual=2.380000, Predicted=2.386174\n",
      "Actual=2.400000, Predicted=2.394200\n",
      "Actual=2.410000, Predicted=2.413183\n",
      "Actual=2.390000, Predicted=2.422703\n",
      "Actual=2.410000, Predicted=2.404040\n",
      "Actual=2.400000, Predicted=2.425146\n",
      "Actual=2.130000, Predicted=2.412767\n",
      "Actual=2.120000, Predicted=2.142436\n",
      "Actual=2.130000, Predicted=2.151301\n",
      "Actual=2.120000, Predicted=2.140100\n",
      "Actual=2.130000, Predicted=2.128316\n",
      "Actual=2.130000, Predicted=2.139862\n",
      "Actual=2.190000, Predicted=2.138398\n",
      "Actual=1.900000, Predicted=2.200512\n",
      "Actual=1.850000, Predicted=1.914321\n",
      "Actual=1.820000, Predicted=1.871876\n",
      "Actual=1.840000, Predicted=1.825248\n",
      "Actual=1.850000, Predicted=1.846053\n",
      "Actual=1.830000, Predicted=1.854880\n",
      "Actual=1.570000, Predicted=1.834283\n",
      "Actual=1.550000, Predicted=1.563611\n",
      "Actual=1.550000, Predicted=1.557606\n",
      "\n",
      " Test Mean Squared Error (smaller the better fit): 0.009\n"
     ]
    },
    {
     "data": {
      "image/png": "[encoded data removed]",
      "text/plain": [
       "<Figure size 1368x576 with 1 Axes>"
      ]
     },
     "metadata": {
      "needs_background": "light"
     },
     "output_type": "display_data"
    }
   ],
   "source": [
    "def test(rawInterestRateData, rawInflationRateData):\n",
    "    testInterestRate = TestInterestRate(FederalRates.readData(rawInterestRateData), FederalRates.readData(rawInflationRateData))\n",
    "    return testInterestRate.testValues()\n",
    "\n",
    "if __name__ == \"__main__\":\n",
    "    test(\"./FF.csv\", \"./index.csv\")"
   ]
  },
  {
   "cell_type": "code",
   "execution_count": 110,
   "metadata": {},
   "outputs": [
    {
     "name": "stdout",
     "output_type": "stream",
     "text": [
      "count    568.000000\n",
      "mean       0.562130\n",
      "std        0.732962\n",
      "min        0.050000\n",
      "25%        0.110000\n",
      "50%        0.160000\n",
      "75%        0.660000\n",
      "max        2.440000\n",
      "Name: FF, dtype: float64\n"
     ]
    }
   ],
   "source": [
    "def describes(rawInterestRateData, rawInflationRateData):\n",
    "    testInterestRate = TestInterestRate(FederalRates.readData(rawInterestRateData), FederalRates.readData(rawInflationRateData))\n",
    "    return print(testInterestRate.predict())\n",
    "\n",
    "if __name__ == \"__main__\":\n",
    "    describes(\"./FF.csv\", \"./index.csv\")"
   ]
  },
  {
   "cell_type": "code",
   "execution_count": null,
   "metadata": {},
   "outputs": [],
   "source": [
    "\n",
    "class InterestRate(FederalRates):\n",
    "    \n",
    "    def filtered(self):\n",
    "        rawInterestRate = self.fundRate[\"DATE\"] > \"2019-05-01\"\n",
    "        return self.fundRate[rawInterestRate].set_index(\"DATE\")\n",
    "    \n",
    "    def predict(self):\n",
    "        interestRate = self.filtered()[\"FF\"]        \n",
    "        return interestRate.describe()\n",
    "    \n",
    "    def testValues(self):\n",
    "        pass"
   ]
  },
  {
   "cell_type": "code",
   "execution_count": null,
   "metadata": {},
   "outputs": [],
   "source": [
    "def main(rawInterestRateData, rawInflationRateData):\n",
    "    interestRate = InterestRate(FederalRates.readData(rawInterestRateData), FederalRates.readData(rawInflationRateData))\n",
    "    return (interestRate.predict())\n",
    " \n",
    "if __name__ == \"__main__\":\n",
    "    main(\"./FF.csv\", \"./index.csv\")"
   ]
  },
  {
   "cell_type": "code",
   "execution_count": null,
   "metadata": {},
   "outputs": [],
   "source": []
  }
 ],
 "metadata": {
  "kernelspec": {
   "display_name": "Python 3",
   "language": "python",
   "name": "python3"
  },
  "language_info": {
   "codemirror_mode": {
    "name": "ipython",
    "version": 3
   },
   "file_extension": ".py",
   "mimetype": "text/x-python",
   "name": "python",
   "nbconvert_exporter": "python",
   "pygments_lexer": "ipython3",
   "version": "3.7.5"
  }
 },
 "nbformat": 4,
 "nbformat_minor": 2
}

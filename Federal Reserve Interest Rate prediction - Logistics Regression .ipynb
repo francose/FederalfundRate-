{
 "cells": [
  {
   "cell_type": "code",
   "execution_count": 50,
   "metadata": {},
   "outputs": [
    {
     "name": "stdout",
     "output_type": "stream",
     "text": [
      "29\n"
     ]
    }
   ],
   "source": [
    "import matplotlib.pyplot as plt\n",
    "import numpy as np\n",
    "import pandas as pd\n",
    "from abc import ABC, abstractclassmethod, abstractmethod\n",
    "from typing import Callable, List\n",
    "import requests \n",
    "from bs4 import BeautifulSoup\n",
    "from sklearn.model_selection import train_test_split \n",
    "from sklearn.linear_model import LinearRegression\n",
    "from sklearn import metrics\n",
    "\n",
    "pd.set_option(\"display.max_rows\",4999)\n",
    "\n",
    "\n",
    "\n",
    "url = (\"https://www.thebalance.com/u-s-inflation-rate-history-by-year-and-forecast-3306093\")\n",
    "\n",
    "\n",
    "class FederalRates(ABC):\n",
    "    \n",
    "    def __init__(self, fundRate, inflation):\n",
    "        try: \n",
    "            self.fundRate = fundRate\n",
    "            self.inflation = inflation\n",
    "            super(FederalRates, self).__init__()\n",
    "        except AttributeError as e:\n",
    "            print(e)\n",
    "            \n",
    "    @abstractmethod\n",
    "    def execute(self):\n",
    "        return self.__init__()   \n",
    "    \n",
    "    #Defining and identifying the variables from source file.\n",
    "    #Important variables YEAR - MM - DD , Effective Federal Funds Rate\n",
    "    @classmethod\n",
    "    def readData(cls, path):\n",
    "        rawData = pd.read_csv(path)\n",
    "        return (rawData)\n",
    "\n",
    "    @classmethod\n",
    "    def getURL(cls, url):\n",
    "        datasets = []\n",
    "        try:\n",
    "            raw = requests.get(url)\n",
    "            if raw.status_code == 200:\n",
    "                soup = BeautifulSoup(raw.content)\n",
    "                table = soup.find_all('table')[0]\n",
    "                for row in table.find_all('tr'):\n",
    "                    columns = row.find_all('td')\n",
    "                    for column in columns:\n",
    "                        datasets.append(column.get_text())\n",
    "                return pd.DataFrame(datasets)\n",
    "            else:\n",
    "                raw.status_code\n",
    "        except requests.exceptions.HTTPError as e:\n",
    "            print(e)\n",
    "            \n",
    "    \n",
    "    \n",
    "class InterestRate(FederalRates):\n",
    "    def filtered(self):\n",
    "        rawInterestRate = self.fundRate[\"DATE\"] > \"2019-05-01\"\n",
    "        return self.fundRate[rawInterestRate]\n",
    "    def execute(self):\n",
    "        interestRate = self.filtered()\n",
    "        print(interestRate)    \n",
    "\n",
    "    \n",
    "def main(rawInterestRateData, rawInflationRateData):\n",
    "    interestRate = InterestRate(FederalRates.readData(rawInterestRateData), FederalRates.readData(rawInflationRateData))\n",
    "    return interestRate.execute()\n",
    " \n",
    "if __name__ == \"__main__\":\n",
    "    main(\"./FF.csv\", \"./index.csv\")\n"
   ]
  },
  {
   "cell_type": "code",
   "execution_count": null,
   "metadata": {},
   "outputs": [],
   "source": []
  }
 ],
 "metadata": {
  "kernelspec": {
   "display_name": "Python 3",
   "language": "python",
   "name": "python3"
  },
  "language_info": {
   "codemirror_mode": {
    "name": "ipython",
    "version": 3
   },
   "file_extension": ".py",
   "mimetype": "text/x-python",
   "name": "python",
   "nbconvert_exporter": "python",
   "pygments_lexer": "ipython3",
   "version": "3.7.5"
  }
 },
 "nbformat": 4,
 "nbformat_minor": 2
}
